{
 "cells": [
  {
   "cell_type": "code",
   "execution_count": 3,
   "id": "de3fa4eb-6f2a-4a89-90c1-367899eb803d",
   "metadata": {},
   "outputs": [],
   "source": [
    "import sympy as sp\n",
    "x, y=sp.symbols('x y')"
   ]
  },
  {
   "cell_type": "code",
   "execution_count": 4,
   "id": "e86d1a61-8bc4-4a0f-94f0-242004d6467b",
   "metadata": {},
   "outputs": [
    {
     "data": {
      "text/latex": [
       "$\\displaystyle 9 x^{8}$"
      ],
      "text/plain": [
       "9*x**8"
      ]
     },
     "execution_count": 4,
     "metadata": {},
     "output_type": "execute_result"
    }
   ],
   "source": [
    "#Oppgave 1e\n",
    "x = sp.Symbol('x')\n",
    "sp.diff(x**4 * x**5)"
   ]
  },
  {
   "cell_type": "code",
   "execution_count": 6,
   "id": "38355efd-2190-4cbc-aaeb-0fa6cc789eeb",
   "metadata": {},
   "outputs": [
    {
     "data": {
      "text/latex": [
       "$\\displaystyle \\frac{3 \\sqrt{x}}{2}$"
      ],
      "text/plain": [
       "3*sqrt(x)/2"
      ]
     },
     "execution_count": 6,
     "metadata": {},
     "output_type": "execute_result"
    }
   ],
   "source": [
    "#Oppgave 1f\n",
    "x = sp.Symbol('x')\n",
    "sp.diff(x * sp.sqrt(x))"
   ]
  },
  {
   "cell_type": "code",
   "execution_count": 7,
   "id": "9413cfc9-fbaf-424e-90e3-3b33c5630e64",
   "metadata": {},
   "outputs": [
    {
     "data": {
      "text/latex": [
       "$\\displaystyle \\frac{2}{x^{2}} - \\frac{3 \\left(x^{2} - 2\\right)}{x^{4}}$"
      ],
      "text/plain": [
       "2/x**2 - 3*(x**2 - 2)/x**4"
      ]
     },
     "execution_count": 7,
     "metadata": {},
     "output_type": "execute_result"
    }
   ],
   "source": [
    "#Oppgave 1g\n",
    "x = sp.Symbol('x')\n",
    "sp.diff((x**2 - 2)/x**3)"
   ]
  },
  {
   "cell_type": "code",
   "execution_count": 8,
   "id": "5753a155-6b6f-4378-b090-f4208686842a",
   "metadata": {},
   "outputs": [
    {
     "data": {
      "text/latex": [
       "$\\displaystyle \\frac{13 x^{\\frac{11}{2}}}{2}$"
      ],
      "text/plain": [
       "13*x**(11/2)/2"
      ]
     },
     "execution_count": 8,
     "metadata": {},
     "output_type": "execute_result"
    }
   ],
   "source": [
    " #Oppgave 1I\n",
    "x = sp.Symbol('x')\n",
    "sp.diff(sp.sqrt(x)*x**6)"
   ]
  },
  {
   "cell_type": "code",
   "execution_count": 9,
   "id": "e40cc9f7-fe9e-44d0-bb4f-701ea5bd64ac",
   "metadata": {},
   "outputs": [
    {
     "data": {
      "text/latex": [
       "$\\displaystyle 3 x^{2} + 1$"
      ],
      "text/plain": [
       "3*x**2 + 1"
      ]
     },
     "execution_count": 9,
     "metadata": {},
     "output_type": "execute_result"
    }
   ],
   "source": [
    "#Oppgave1 J\n",
    "x = sp.Symbol('x')\n",
    "sp.diff(x*(x**2 + 1))"
   ]
  },
  {
   "cell_type": "code",
   "execution_count": 10,
   "id": "563611fa-bf24-4111-af6f-7d15e1fad205",
   "metadata": {},
   "outputs": [
    {
     "data": {
      "text/latex": [
       "$\\displaystyle - \\frac{3 x^{2} \\left(x^{2} + 4\\right)}{\\left(x^{3} - 1\\right)^{2}} + \\frac{2 x}{x^{3} - 1}$"
      ],
      "text/plain": [
       "-3*x**2*(x**2 + 4)/(x**3 - 1)**2 + 2*x/(x**3 - 1)"
      ]
     },
     "execution_count": 10,
     "metadata": {},
     "output_type": "execute_result"
    }
   ],
   "source": [
    "#Oppgave1 K\n",
    "x = sp.Symbol('x')\n",
    "sp.diff((x**2 + 4)/(x**3 - 1))"
   ]
  },
  {
   "cell_type": "code",
   "execution_count": 11,
   "id": "e54843c4-4c74-4e64-936f-2de2b32651d7",
   "metadata": {},
   "outputs": [
    {
     "data": {
      "text/latex": [
       "$\\displaystyle \\frac{x^{2} \\left(- 2 x - 2\\right)}{\\left(x^{2} + 2 x\\right)^{2}} + \\frac{2 x}{x^{2} + 2 x}$"
      ],
      "text/plain": [
       "x**2*(-2*x - 2)/(x**2 + 2*x)**2 + 2*x/(x**2 + 2*x)"
      ]
     },
     "execution_count": 11,
     "metadata": {},
     "output_type": "execute_result"
    }
   ],
   "source": [
    "#Oppgave 1 L\n",
    "x = sp.Symbol('x')\n",
    "sp.diff(x**2/(x**2 + 2*x))"
   ]
  },
  {
   "cell_type": "code",
   "execution_count": 12,
   "id": "adbc9e60-7c02-44e2-add6-7c04147cfe44",
   "metadata": {},
   "outputs": [
    {
     "data": {
      "text/latex": [
       "$\\displaystyle \\frac{2 x + 4}{x - 2} - \\frac{x^{2} + 4 x + 2}{\\left(x - 2\\right)^{2}}$"
      ],
      "text/plain": [
       "(2*x + 4)/(x - 2) - (x**2 + 4*x + 2)/(x - 2)**2"
      ]
     },
     "execution_count": 12,
     "metadata": {},
     "output_type": "execute_result"
    }
   ],
   "source": [
    "#Oppgave 1 M\n",
    "x = sp.Symbol('x')\n",
    "sp.diff((x**2 + 4*x + 2)/(x - 2))"
   ]
  },
  {
   "cell_type": "code",
   "execution_count": 13,
   "id": "86b9f4d4-056f-49a1-80fb-370227a76e7d",
   "metadata": {},
   "outputs": [
    {
     "data": {
      "text/latex": [
       "$\\displaystyle - \\frac{2 x \\left(x^{3} - 2 x\\right)}{\\left(x^{2} - 1\\right)^{2}} + \\frac{3 x^{2} - 2}{x^{2} - 1}$"
      ],
      "text/plain": [
       "-2*x*(x**3 - 2*x)/(x**2 - 1)**2 + (3*x**2 - 2)/(x**2 - 1)"
      ]
     },
     "execution_count": 13,
     "metadata": {},
     "output_type": "execute_result"
    }
   ],
   "source": [
    "#Oppgave 2A\n",
    "x = sp.Symbol('x')\n",
    "sp.diff((x**3 - 2*x)/(x**2 - 1))"
   ]
  },
  {
   "cell_type": "code",
   "execution_count": 14,
   "id": "b820473e-b686-4424-93e7-93ff121f909d",
   "metadata": {},
   "outputs": [
    {
     "data": {
      "text/latex": [
       "$\\displaystyle 2 x \\left(x^{2} - 1\\right) + 2 x \\left(x^{2} + 1\\right)$"
      ],
      "text/plain": [
       "2*x*(x**2 - 1) + 2*x*(x**2 + 1)"
      ]
     },
     "execution_count": 14,
     "metadata": {},
     "output_type": "execute_result"
    }
   ],
   "source": [
    "#Oppgave 2B\n",
    "x = sp.Symbol('x')\n",
    "sp.diff((x**2 + 1)*(x**2 - 1))"
   ]
  },
  {
   "cell_type": "code",
   "execution_count": 15,
   "id": "9f7e24a9-9cc0-4d34-bb12-f9da78ec3874",
   "metadata": {},
   "outputs": [
    {
     "data": {
      "text/latex": [
       "$\\displaystyle - \\frac{3 x^{2} \\left(3 x - 4\\right)}{\\left(x^{3} + 7\\right)^{2}} + \\frac{3}{x^{3} + 7}$"
      ],
      "text/plain": [
       "-3*x**2*(3*x - 4)/(x**3 + 7)**2 + 3/(x**3 + 7)"
      ]
     },
     "execution_count": 15,
     "metadata": {},
     "output_type": "execute_result"
    }
   ],
   "source": [
    "#Oppgave 2C\n",
    "x = sp.Symbol('x')\n",
    "sp.diff((3*x - 4)/(x**3 + 7))"
   ]
  }
 ],
 "metadata": {
  "kernelspec": {
   "display_name": "Python 3 (ipykernel)",
   "language": "python",
   "name": "python3"
  },
  "language_info": {
   "codemirror_mode": {
    "name": "ipython",
    "version": 3
   },
   "file_extension": ".py",
   "mimetype": "text/x-python",
   "name": "python",
   "nbconvert_exporter": "python",
   "pygments_lexer": "ipython3",
   "version": "3.9.5"
  }
 },
 "nbformat": 4,
 "nbformat_minor": 5
}
