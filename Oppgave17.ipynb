{
 "cells": [
  {
   "cell_type": "code",
   "execution_count": 1,
   "id": "6cc24e56-e0d0-4255-8cc4-4600e3fbdace",
   "metadata": {},
   "outputs": [],
   "source": [
    "import sympy as sp\n",
    "from sympy.solvers import solve\n",
    "x, y=sp.symbols('x y')\n"
   ]
  },
  {
   "cell_type": "code",
   "execution_count": 4,
   "id": "5c916abb-a0d9-44e8-bd96-5b75d142b4bd",
   "metadata": {},
   "outputs": [
    {
     "data": {
      "text/plain": [
       "[(0, -4), (0, 4), (15, -1), (15, 1)]"
      ]
     },
     "execution_count": 4,
     "metadata": {},
     "output_type": "execute_result"
    }
   ],
   "source": [
    "#Oppgave 17, 1a\n",
    "eq1=sp.Eq(x*y**2 - x, 0)\n",
    "eq1\n",
    "eq2=sp.Eq(x + y**2, 16)\n",
    "eq2\n",
    "sol=solve([eq1,eq2], [x,y])\n",
    "sol"
   ]
  },
  {
   "cell_type": "code",
   "execution_count": 5,
   "id": "afc48a24-4e95-4cf1-827e-4a53d0941868",
   "metadata": {},
   "outputs": [
    {
     "data": {
      "text/plain": [
       "[(-10, 0), (-6, -8), (-6, 8), (6, -8), (6, 8), (10, 0)]"
      ]
     },
     "execution_count": 5,
     "metadata": {},
     "output_type": "execute_result"
    }
   ],
   "source": [
    "#Oppgave 17, 1b\n",
    "eq3=sp.Eq(x**2 + y**2, 100)\n",
    "eq3\n",
    "eq4=sp.Eq(x**2*y - 36*y, 0)\n",
    "eq4\n",
    "sol=solve([eq3,eq4], [x,y])\n",
    "sol"
   ]
  },
  {
   "cell_type": "code",
   "execution_count": 6,
   "id": "68af171f-0e2f-481a-ae08-a7f753d476c6",
   "metadata": {},
   "outputs": [
    {
     "data": {
      "text/plain": [
       "[(-3, -7), (-3, 7), (0, -sqrt(58)), (0, sqrt(58)), (3, -7), (3, 7)]"
      ]
     },
     "execution_count": 6,
     "metadata": {},
     "output_type": "execute_result"
    }
   ],
   "source": [
    "#Oppgave 17, 2a\n",
    "eq5=sp.Eq(x*y**2 - 49*x, 0)\n",
    "eq5\n",
    "eq6=sp.Eq(x**2 + y**2, 58)\n",
    "eq6\n",
    "sol=solve([eq5,eq6], [x,y])\n",
    "sol"
   ]
  },
  {
   "cell_type": "code",
   "execution_count": 7,
   "id": "07333479-f0a0-45d4-a02f-b8451ff55b81",
   "metadata": {},
   "outputs": [
    {
     "data": {
      "text/plain": [
       "[(-1.11803398874989, 0.0),\n",
       " (-0.500000000000000, -1.00000000000000),\n",
       " (-0.500000000000000, 1.00000000000000),\n",
       " (1.11803398874989, 0.0)]"
      ]
     },
     "execution_count": 7,
     "metadata": {},
     "output_type": "execute_result"
    }
   ],
   "source": [
    "#Oppgave 17, 2b\n",
    "eq7=sp.Eq(x**2 + y**2, 5/4)\n",
    "eq7\n",
    "eq8=sp.Eq(2*x*y + y, 0)\n",
    "eq8\n",
    "sol=solve([eq7,eq8], [x,y])\n",
    "sol"
   ]
  }
 ],
 "metadata": {
  "kernelspec": {
   "display_name": "Python 3 (ipykernel)",
   "language": "python",
   "name": "python3"
  },
  "language_info": {
   "codemirror_mode": {
    "name": "ipython",
    "version": 3
   },
   "file_extension": ".py",
   "mimetype": "text/x-python",
   "name": "python",
   "nbconvert_exporter": "python",
   "pygments_lexer": "ipython3",
   "version": "3.9.5"
  }
 },
 "nbformat": 4,
 "nbformat_minor": 5
}
