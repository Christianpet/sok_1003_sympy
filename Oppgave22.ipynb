{
 "cells": [
  {
   "cell_type": "code",
   "execution_count": 2,
   "id": "a2a7388b-08dd-4249-8c5c-129c8c7a1d72",
   "metadata": {},
   "outputs": [],
   "source": [
    "import sympy as sp\n",
    "x, y=sp.symbols('x y')\n",
    "ln = sp.ln\n",
    "e = sp.exp"
   ]
  },
  {
   "cell_type": "code",
   "execution_count": 3,
   "id": "a33d6aa2-8d73-4100-890e-ece3e73c938c",
   "metadata": {},
   "outputs": [
    {
     "data": {
      "text/latex": [
       "$\\displaystyle \\frac{1}{x}$"
      ],
      "text/plain": [
       "1/x"
      ]
     },
     "execution_count": 3,
     "metadata": {},
     "output_type": "execute_result"
    }
   ],
   "source": [
    "#Oppgave 1A\n",
    "sp.diff(ln(5*x))"
   ]
  },
  {
   "cell_type": "code",
   "execution_count": 4,
   "id": "02ea7f19-d638-43a4-b723-e7a8723b024c",
   "metadata": {},
   "outputs": [
    {
     "data": {
      "text/latex": [
       "$\\displaystyle - 2 e^{- 2 x}$"
      ],
      "text/plain": [
       "-2*exp(-2*x)"
      ]
     },
     "execution_count": 4,
     "metadata": {},
     "output_type": "execute_result"
    }
   ],
   "source": [
    "#Oppgave 1B\n",
    "sp.diff((e(-2*x)))"
   ]
  },
  {
   "cell_type": "code",
   "execution_count": 5,
   "id": "0d98e74c-5d33-4fa9-ba87-3bc05c750826",
   "metadata": {},
   "outputs": [
    {
     "data": {
      "text/latex": [
       "$\\displaystyle \\frac{1}{x}$"
      ],
      "text/plain": [
       "1/x"
      ]
     },
     "execution_count": 5,
     "metadata": {},
     "output_type": "execute_result"
    }
   ],
   "source": [
    "#Oppgave 1C\n",
    "sp.diff(ln((12*x))-3)"
   ]
  },
  {
   "cell_type": "code",
   "execution_count": 6,
   "id": "d08d8a6e-dcdc-458b-b90f-375b8e960722",
   "metadata": {},
   "outputs": [
    {
     "data": {
      "text/latex": [
       "$\\displaystyle 2^{x} \\log{\\left(2 \\right)}$"
      ],
      "text/plain": [
       "2**x*log(2)"
      ]
     },
     "execution_count": 6,
     "metadata": {},
     "output_type": "execute_result"
    }
   ],
   "source": [
    "#Oppgave 1D\n",
    "sp.diff(2**x)"
   ]
  },
  {
   "cell_type": "code",
   "execution_count": 7,
   "id": "c20eb336-c61f-4974-9106-06d10084533d",
   "metadata": {},
   "outputs": [
    {
     "data": {
      "text/latex": [
       "$\\displaystyle 3 e^{3 x + 5}$"
      ],
      "text/plain": [
       "3*exp(3*x + 5)"
      ]
     },
     "execution_count": 7,
     "metadata": {},
     "output_type": "execute_result"
    }
   ],
   "source": [
    "#Oppgave 1E\n",
    "sp.diff(e(3*x+5))"
   ]
  },
  {
   "cell_type": "code",
   "execution_count": 8,
   "id": "9a13d8ba-b50a-4ef8-973d-8ce747e0f69a",
   "metadata": {},
   "outputs": [
    {
     "data": {
      "text/latex": [
       "$\\displaystyle \\frac{5 x^{4}}{x^{5} + 1}$"
      ],
      "text/plain": [
       "5*x**4/(x**5 + 1)"
      ]
     },
     "execution_count": 8,
     "metadata": {},
     "output_type": "execute_result"
    }
   ],
   "source": [
    "#Oppgave 1f\n",
    "sp.diff(ln(x**5 + 1))"
   ]
  },
  {
   "cell_type": "code",
   "execution_count": 9,
   "id": "c5f97947-35cf-425a-a73d-ba75d489ac4f",
   "metadata": {},
   "outputs": [
    {
     "data": {
      "text/latex": [
       "$\\displaystyle \\left(8 x + 8\\right) e^{4 x^{2} + 8 x}$"
      ],
      "text/plain": [
       "(8*x + 8)*exp(4*x**2 + 8*x)"
      ]
     },
     "execution_count": 9,
     "metadata": {},
     "output_type": "execute_result"
    }
   ],
   "source": [
    "#Oppgave 1G\n",
    "sp.diff(e(4*x**2 + 8*x))"
   ]
  },
  {
   "cell_type": "code",
   "execution_count": 10,
   "id": "2ea2df55-b8ee-4fce-8acf-cc47530740de",
   "metadata": {},
   "outputs": [
    {
     "data": {
      "text/latex": [
       "$\\displaystyle - \\frac{1}{x}$"
      ],
      "text/plain": [
       "-1/x"
      ]
     },
     "execution_count": 10,
     "metadata": {},
     "output_type": "execute_result"
    }
   ],
   "source": [
    "#Oppgave 1H\n",
    "sp.diff(ln(1/x))"
   ]
  },
  {
   "cell_type": "code",
   "execution_count": 11,
   "id": "043735f5-35db-4f2c-9326-c438ec7f34f5",
   "metadata": {},
   "outputs": [
    {
     "data": {
      "text/latex": [
       "$\\displaystyle 12 e^{4 x} + \\frac{6}{x}$"
      ],
      "text/plain": [
       "12*exp(4*x) + 6/x"
      ]
     },
     "execution_count": 11,
     "metadata": {},
     "output_type": "execute_result"
    }
   ],
   "source": [
    "#Oppgave 1 I\n",
    "sp.diff(6*ln(x) + 3*e(4*x))"
   ]
  },
  {
   "cell_type": "code",
   "execution_count": 12,
   "id": "33bc1eef-fccc-487d-8618-c58d8a867119",
   "metadata": {},
   "outputs": [
    {
     "data": {
      "text/latex": [
       "$\\displaystyle - x e^{- x} + e^{- x}$"
      ],
      "text/plain": [
       "-x*exp(-x) + exp(-x)"
      ]
     },
     "execution_count": 12,
     "metadata": {},
     "output_type": "execute_result"
    }
   ],
   "source": [
    "#Oppgave 1J\n",
    "sp.diff(x * e(-x))"
   ]
  },
  {
   "cell_type": "code",
   "execution_count": 13,
   "id": "96c35393-256f-4461-95a8-ef5d5706533a",
   "metadata": {},
   "outputs": [
    {
     "data": {
      "text/latex": [
       "$\\displaystyle \\frac{2 x^{3}}{x^{2} + 2} + 2 x \\log{\\left(x^{2} + 2 \\right)}$"
      ],
      "text/plain": [
       "2*x**3/(x**2 + 2) + 2*x*log(x**2 + 2)"
      ]
     },
     "execution_count": 13,
     "metadata": {},
     "output_type": "execute_result"
    }
   ],
   "source": [
    "#Oppgave 1K\n",
    "sp.diff(x**2*ln(x**2 + 2))"
   ]
  },
  {
   "cell_type": "code",
   "execution_count": 14,
   "id": "6fee886b-5b0b-4e5a-a885-d248b4848a0e",
   "metadata": {},
   "outputs": [
    {
     "data": {
      "text/latex": [
       "$\\displaystyle 2 x^{3} e^{2 x} + 3 x^{2} e^{2 x}$"
      ],
      "text/plain": [
       "2*x**3*exp(2*x) + 3*x**2*exp(2*x)"
      ]
     },
     "execution_count": 14,
     "metadata": {},
     "output_type": "execute_result"
    }
   ],
   "source": [
    "#Oppgave 2A\n",
    "sp.diff(x**3 * e(2*x))"
   ]
  },
  {
   "cell_type": "code",
   "execution_count": 15,
   "id": "5f97ff74-85a4-49f8-82d6-44dae8e73cba",
   "metadata": {},
   "outputs": [
    {
     "data": {
      "text/latex": [
       "$\\displaystyle \\frac{\\left(x^{2} + 1\\right) \\left(- \\frac{2 x \\left(x^{2} - 1\\right)}{\\left(x^{2} + 1\\right)^{2}} + \\frac{2 x}{x^{2} + 1}\\right)}{x^{2} - 1}$"
      ],
      "text/plain": [
       "(x**2 + 1)*(-2*x*(x**2 - 1)/(x**2 + 1)**2 + 2*x/(x**2 + 1))/(x**2 - 1)"
      ]
     },
     "execution_count": 15,
     "metadata": {},
     "output_type": "execute_result"
    }
   ],
   "source": [
    "#Oppgave 2B\n",
    "sp.diff(ln((x**2 - 1)/(x**2 + 1)))"
   ]
  },
  {
   "cell_type": "code",
   "execution_count": 16,
   "id": "f017a6a6-6820-4aad-aa4a-caf7fd5edf3c",
   "metadata": {},
   "outputs": [
    {
     "data": {
      "text/latex": [
       "$\\displaystyle \\frac{2 x^{3}}{x^{2} + 2} + 2 x \\log{\\left(x^{2} + 2 \\right)}$"
      ],
      "text/plain": [
       "2*x**3/(x**2 + 2) + 2*x*log(x**2 + 2)"
      ]
     },
     "execution_count": 16,
     "metadata": {},
     "output_type": "execute_result"
    }
   ],
   "source": [
    "#Oppgave 2C\n",
    "sp.diff(x**2 * ln((x**2 + 2)))"
   ]
  },
  {
   "cell_type": "code",
   "execution_count": 17,
   "id": "19dcfc5b-2064-4fa6-a6ab-2c49fe3c6816",
   "metadata": {},
   "outputs": [
    {
     "data": {
      "text/latex": [
       "$\\displaystyle - \\frac{2 x e^{- x}}{\\left(x^{2} + 1\\right)^{2}} - \\frac{e^{- x}}{x^{2} + 1}$"
      ],
      "text/plain": [
       "-2*x*exp(-x)/(x**2 + 1)**2 - exp(-x)/(x**2 + 1)"
      ]
     },
     "execution_count": 17,
     "metadata": {},
     "output_type": "execute_result"
    }
   ],
   "source": [
    "#Oppgave 2D\n",
    "sp.diff(e(-x)/(x**2 + 1))"
   ]
  }
 ],
 "metadata": {
  "kernelspec": {
   "display_name": "Python 3 (ipykernel)",
   "language": "python",
   "name": "python3"
  },
  "language_info": {
   "codemirror_mode": {
    "name": "ipython",
    "version": 3
   },
   "file_extension": ".py",
   "mimetype": "text/x-python",
   "name": "python",
   "nbconvert_exporter": "python",
   "pygments_lexer": "ipython3",
   "version": "3.9.5"
  }
 },
 "nbformat": 4,
 "nbformat_minor": 5
}
