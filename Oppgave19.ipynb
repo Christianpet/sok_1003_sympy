{
 "cells": [
  {
   "cell_type": "code",
   "execution_count": 3,
   "id": "8d4a8431-e7cb-4610-a150-7eaca91386b6",
   "metadata": {},
   "outputs": [],
   "source": [
    "import sympy as sp\n",
    "x, y=sp.symbols('x y')"
   ]
  },
  {
   "cell_type": "code",
   "execution_count": 2,
   "id": "b767a14b-6152-462f-adea-4dd83f0e4eef",
   "metadata": {},
   "outputs": [
    {
     "data": {
      "text/latex": [
       "$\\displaystyle 5 x^{4}$"
      ],
      "text/plain": [
       "5*x**4"
      ]
     },
     "execution_count": 2,
     "metadata": {},
     "output_type": "execute_result"
    }
   ],
   "source": [
    "#Oppgave 19 1 a\n",
    "sp.diff(x**5)"
   ]
  },
  {
   "cell_type": "code",
   "execution_count": 4,
   "id": "d2fdb266-e574-461a-ad5f-5114586d5c2f",
   "metadata": {},
   "outputs": [
    {
     "data": {
      "text/latex": [
       "$\\displaystyle 1$"
      ],
      "text/plain": [
       "1"
      ]
     },
     "execution_count": 4,
     "metadata": {},
     "output_type": "execute_result"
    }
   ],
   "source": [
    "#Oppgave 19 1 b\n",
    "sp.diff(x + 12)"
   ]
  },
  {
   "cell_type": "code",
   "execution_count": 5,
   "id": "e5f619c2-edae-4976-9430-4abb691b2c4d",
   "metadata": {},
   "outputs": [
    {
     "data": {
      "text/latex": [
       "$\\displaystyle 3 x^{2} + 8 x$"
      ],
      "text/plain": [
       "3*x**2 + 8*x"
      ]
     },
     "execution_count": 5,
     "metadata": {},
     "output_type": "execute_result"
    }
   ],
   "source": [
    "#Oppgave 19 1 c\n",
    "sp.diff(x**3 + 4*x**2)"
   ]
  },
  {
   "cell_type": "code",
   "execution_count": 9,
   "id": "e1d5a243-94eb-44af-bad2-d9c4b38e65d2",
   "metadata": {},
   "outputs": [
    {
     "data": {
      "text/latex": [
       "$\\displaystyle 6 x^{2}$"
      ],
      "text/plain": [
       "6*x**2"
      ]
     },
     "execution_count": 9,
     "metadata": {},
     "output_type": "execute_result"
    }
   ],
   "source": [
    "#Oppgave 19 1 d\n",
    "sp.diff(2*x**3 + sp.sqrt(36))"
   ]
  },
  {
   "cell_type": "code",
   "execution_count": 10,
   "id": "cda26688-7a93-41a6-a832-ce5b360422b5",
   "metadata": {},
   "outputs": [
    {
     "data": {
      "text/latex": [
       "$\\displaystyle \\frac{1}{2 \\sqrt{x}}$"
      ],
      "text/plain": [
       "1/(2*sqrt(x))"
      ]
     },
     "execution_count": 10,
     "metadata": {},
     "output_type": "execute_result"
    }
   ],
   "source": [
    "#Oppgave 19 1 e\n",
    "sp.diff(sp.sqrt(x) + 5**2)"
   ]
  },
  {
   "cell_type": "code",
   "execution_count": 11,
   "id": "0d685641-8574-4534-b005-89c8d1cf9f90",
   "metadata": {},
   "outputs": [
    {
     "data": {
      "text/latex": [
       "$\\displaystyle 1.5 x^{2} - 1$"
      ],
      "text/plain": [
       "1.5*x**2 - 1"
      ]
     },
     "execution_count": 11,
     "metadata": {},
     "output_type": "execute_result"
    }
   ],
   "source": [
    "#Oppgave 19 1 f\n",
    "sp.diff(-x + 1/2*x**3)"
   ]
  },
  {
   "cell_type": "code",
   "execution_count": 13,
   "id": "1042d679-f0a0-4937-a50b-7c87c39c2bb0",
   "metadata": {},
   "outputs": [
    {
     "data": {
      "text/latex": [
       "$\\displaystyle 3 x^{2} - 2 x + 0.25$"
      ],
      "text/plain": [
       "3*x**2 - 2*x + 0.25"
      ]
     },
     "execution_count": 13,
     "metadata": {},
     "output_type": "execute_result"
    }
   ],
   "source": [
    "#Oppgave 19 1 g\n",
    "sp.diff(x**3 - x**2 + 1/4*x)"
   ]
  },
  {
   "cell_type": "code",
   "execution_count": 15,
   "id": "301a8898-4786-4836-ae47-995a1b9761f8",
   "metadata": {},
   "outputs": [
    {
     "data": {
      "text/latex": [
       "$\\displaystyle 36 x^{5} - \\frac{1}{x^{2}}$"
      ],
      "text/plain": [
       "36*x**5 - 1/x**2"
      ]
     },
     "execution_count": 15,
     "metadata": {},
     "output_type": "execute_result"
    }
   ],
   "source": [
    "#Oppgave 19 2 a\n",
    "sp.diff(1/x + 6*x**6)"
   ]
  },
  {
   "cell_type": "code",
   "execution_count": 17,
   "id": "ce3d413f-a129-433d-b8ef-130ada2a6bd8",
   "metadata": {},
   "outputs": [
    {
     "data": {
      "text/latex": [
       "$\\displaystyle 1.5 x^{2} - 1$"
      ],
      "text/plain": [
       "1.5*x**2 - 1"
      ]
     },
     "execution_count": 17,
     "metadata": {},
     "output_type": "execute_result"
    }
   ],
   "source": [
    "#Oppgave 19 2 b\n",
    "sp.diff(-x + 1/2*x**3)"
   ]
  },
  {
   "cell_type": "code",
   "execution_count": 20,
   "id": "9dcf4d15-738a-480b-a4d5-bf2a410261d5",
   "metadata": {},
   "outputs": [
    {
     "data": {
      "text/latex": [
       "$\\displaystyle x^{2} + x \\left(2 x + 2\\right) + 2 x - 3$"
      ],
      "text/plain": [
       "x**2 + x*(2*x + 2) + 2*x - 3"
      ]
     },
     "execution_count": 20,
     "metadata": {},
     "output_type": "execute_result"
    }
   ],
   "source": [
    "#Oppgave 19 2 c\n",
    "sp.diff(x*(x**2 + 2*x - 3))"
   ]
  }
 ],
 "metadata": {
  "kernelspec": {
   "display_name": "Python 3 (ipykernel)",
   "language": "python",
   "name": "python3"
  },
  "language_info": {
   "codemirror_mode": {
    "name": "ipython",
    "version": 3
   },
   "file_extension": ".py",
   "mimetype": "text/x-python",
   "name": "python",
   "nbconvert_exporter": "python",
   "pygments_lexer": "ipython3",
   "version": "3.9.5"
  }
 },
 "nbformat": 4,
 "nbformat_minor": 5
}
