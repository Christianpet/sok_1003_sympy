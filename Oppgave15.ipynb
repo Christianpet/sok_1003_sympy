{
 "cells": [
  {
   "cell_type": "code",
   "execution_count": 1,
   "id": "2f2583e4-204f-42a6-9da9-92e2885b7966",
   "metadata": {},
   "outputs": [],
   "source": [
    "import sympy as sp\n",
    "from sympy.solvers import solve\n",
    "x, y=sp.symbols('x y')\n"
   ]
  },
  {
   "cell_type": "code",
   "execution_count": 2,
   "id": "ea65dee8-2464-4d83-b53f-bb4b8e686b26",
   "metadata": {},
   "outputs": [
    {
     "data": {
      "text/latex": [
       "$\\displaystyle 2 x + 4 y = 6$"
      ],
      "text/plain": [
       "Eq(2*x + 4*y, 6)"
      ]
     },
     "execution_count": 2,
     "metadata": {},
     "output_type": "execute_result"
    }
   ],
   "source": [
    "#Oppgave 15, 1 a1\n",
    "eq1=sp.Eq(2*x + 4*y, 6)\n",
    "eq1"
   ]
  },
  {
   "cell_type": "code",
   "execution_count": 3,
   "id": "bef4d706-d0a8-42e4-800c-20fbc6ec749f",
   "metadata": {},
   "outputs": [
    {
     "data": {
      "text/latex": [
       "$\\displaystyle - 2 x + y = 4$"
      ],
      "text/plain": [
       "Eq(-2*x + y, 4)"
      ]
     },
     "execution_count": 3,
     "metadata": {},
     "output_type": "execute_result"
    }
   ],
   "source": [
    "#Oppgave 15, 1 a2\n",
    "eq2=sp.Eq(-2*x + y, 4)\n",
    "eq2"
   ]
  },
  {
   "cell_type": "code",
   "execution_count": 7,
   "id": "13f817e5-1de8-47ee-a2f6-8e17b4034430",
   "metadata": {},
   "outputs": [
    {
     "data": {
      "text/plain": [
       "{x: -1, y: 2}"
      ]
     },
     "execution_count": 7,
     "metadata": {},
     "output_type": "execute_result"
    }
   ],
   "source": [
    "sol=solve([eq1,eq2], [x,y])\n",
    "sol"
   ]
  },
  {
   "cell_type": "code",
   "execution_count": 4,
   "id": "28a45edb-a978-490b-a294-aa87e7af7e01",
   "metadata": {},
   "outputs": [
    {
     "data": {
      "text/latex": [
       "$\\displaystyle 2 x - y = -1$"
      ],
      "text/plain": [
       "Eq(2*x - y, -1)"
      ]
     },
     "execution_count": 4,
     "metadata": {},
     "output_type": "execute_result"
    }
   ],
   "source": [
    "#Oppgave 15, 1 b1\n",
    "eq3=sp.Eq(2*x - y, -1)\n",
    "eq3"
   ]
  },
  {
   "cell_type": "code",
   "execution_count": 5,
   "id": "4ce46800-9e97-42f4-99e9-1a2a54a2f4bb",
   "metadata": {},
   "outputs": [
    {
     "data": {
      "text/latex": [
       "$\\displaystyle x^{2} + x - y = 1$"
      ],
      "text/plain": [
       "Eq(x**2 + x - y, 1)"
      ]
     },
     "execution_count": 5,
     "metadata": {},
     "output_type": "execute_result"
    }
   ],
   "source": [
    "#Oppgave 15, 1 b2\n",
    "eq4=sp.Eq(x**2 + x - y, 1)\n",
    "eq4"
   ]
  },
  {
   "cell_type": "code",
   "execution_count": 8,
   "id": "64a71fc1-6b38-4fb1-83af-7d12ba2c201b",
   "metadata": {},
   "outputs": [
    {
     "data": {
      "text/plain": [
       "[(-1, -1), (2, 5)]"
      ]
     },
     "execution_count": 8,
     "metadata": {},
     "output_type": "execute_result"
    }
   ],
   "source": [
    "sol=solve([eq3,eq4], [x,y])\n",
    "sol"
   ]
  },
  {
   "cell_type": "code",
   "execution_count": 6,
   "id": "8be1f336-343a-4b89-9e48-d5be6bd69eaa",
   "metadata": {},
   "outputs": [
    {
     "data": {
      "text/latex": [
       "$\\displaystyle 3 x - 12 = - 6 y$"
      ],
      "text/plain": [
       "Eq(3*x - 12, -6*y)"
      ]
     },
     "execution_count": 6,
     "metadata": {},
     "output_type": "execute_result"
    }
   ],
   "source": [
    "#Oppgave 15, 2 a1\n",
    "eq5=sp.Eq(3*x - 12, -6*y)\n",
    "eq5"
   ]
  },
  {
   "cell_type": "code",
   "execution_count": 10,
   "id": "95e3b013-64ad-4b97-8cc2-841dbcf20581",
   "metadata": {},
   "outputs": [
    {
     "data": {
      "text/latex": [
       "$\\displaystyle 4 x - 8 y = 16$"
      ],
      "text/plain": [
       "Eq(4*x - 8*y, 16)"
      ]
     },
     "execution_count": 10,
     "metadata": {},
     "output_type": "execute_result"
    }
   ],
   "source": [
    "#Oppgave 15, 2 a2\n",
    "eq6=sp.Eq(4*x - 8*y, 16)\n",
    "eq6"
   ]
  },
  {
   "cell_type": "code",
   "execution_count": 11,
   "id": "a8017800-99b6-496c-9303-65f12d6be2c8",
   "metadata": {},
   "outputs": [
    {
     "data": {
      "text/plain": [
       "{x: 4, y: 0}"
      ]
     },
     "execution_count": 11,
     "metadata": {},
     "output_type": "execute_result"
    }
   ],
   "source": [
    "sol=solve([eq5,eq6], [x,y])\n",
    "sol"
   ]
  },
  {
   "cell_type": "code",
   "execution_count": 12,
   "id": "3658280b-831a-41ff-bd58-20ab9d87007c",
   "metadata": {},
   "outputs": [
    {
     "data": {
      "text/latex": [
       "$\\displaystyle x^{2} + 4 x - 3 = 3 y$"
      ],
      "text/plain": [
       "Eq(x**2 + 4*x - 3, 3*y)"
      ]
     },
     "execution_count": 12,
     "metadata": {},
     "output_type": "execute_result"
    }
   ],
   "source": [
    "#Oppgave 15, 2 b1\n",
    "eq7=sp.Eq(x**2 + 4*x - 3, 3*y)\n",
    "eq7"
   ]
  },
  {
   "cell_type": "code",
   "execution_count": 13,
   "id": "00d174bd-eb1f-45e8-ade6-25981e7854ae",
   "metadata": {},
   "outputs": [
    {
     "data": {
      "text/latex": [
       "$\\displaystyle 2 y = 8 - x$"
      ],
      "text/plain": [
       "Eq(2*y, 8 - x)"
      ]
     },
     "execution_count": 13,
     "metadata": {},
     "output_type": "execute_result"
    }
   ],
   "source": [
    "#Oppgave 15, 2 b2\n",
    "eq8=sp.Eq(2*y, 8 - x)\n",
    "eq8"
   ]
  },
  {
   "cell_type": "code",
   "execution_count": 14,
   "id": "9f997cdd-6dd7-4c17-81bd-7dc5c1cf66b3",
   "metadata": {},
   "outputs": [
    {
     "data": {
      "text/plain": [
       "[(-15/2, 31/4), (2, 3)]"
      ]
     },
     "execution_count": 14,
     "metadata": {},
     "output_type": "execute_result"
    }
   ],
   "source": [
    "sol=solve([eq7,eq8], [x,y])\n",
    "sol"
   ]
  }
 ],
 "metadata": {
  "kernelspec": {
   "display_name": "Python 3 (ipykernel)",
   "language": "python",
   "name": "python3"
  },
  "language_info": {
   "codemirror_mode": {
    "name": "ipython",
    "version": 3
   },
   "file_extension": ".py",
   "mimetype": "text/x-python",
   "name": "python",
   "nbconvert_exporter": "python",
   "pygments_lexer": "ipython3",
   "version": "3.9.5"
  }
 },
 "nbformat": 4,
 "nbformat_minor": 5
}
