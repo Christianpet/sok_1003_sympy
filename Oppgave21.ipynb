{
 "cells": [
  {
   "cell_type": "code",
   "execution_count": 1,
   "id": "06afabc4-4553-4b7d-ad2c-7bbd325e9304",
   "metadata": {},
   "outputs": [],
   "source": [
    "import sympy as sp\n",
    "x, y=sp.symbols('x y')"
   ]
  },
  {
   "cell_type": "code",
   "execution_count": 2,
   "id": "68c901df-a114-4458-9974-f8e5a07cbae8",
   "metadata": {},
   "outputs": [
    {
     "data": {
      "text/latex": [
       "$\\displaystyle \\left(15 x^{2} + 30\\right) \\left(x^{3} + 6 x\\right)^{4}$"
      ],
      "text/plain": [
       "(15*x**2 + 30)*(x**3 + 6*x)**4"
      ]
     },
     "execution_count": 2,
     "metadata": {},
     "output_type": "execute_result"
    }
   ],
   "source": [
    "#Oppgave 1A\n",
    "x = sp.Symbol('x')\n",
    "sp.diff((x**3 + 6*x)**5)"
   ]
  },
  {
   "cell_type": "code",
   "execution_count": 3,
   "id": "32473704-bc31-4af8-9d6b-6e97f34fb9d2",
   "metadata": {},
   "outputs": [
    {
     "data": {
      "text/latex": [
       "$\\displaystyle \\frac{2 x}{\\sqrt{2 x^{2} + 5}}$"
      ],
      "text/plain": [
       "2*x/sqrt(2*x**2 + 5)"
      ]
     },
     "execution_count": 3,
     "metadata": {},
     "output_type": "execute_result"
    }
   ],
   "source": [
    "#Oppgave 1b\n",
    "x = sp.Symbol('x')\n",
    "sp.diff(sp.sqrt(2*x**2 + 5))"
   ]
  },
  {
   "cell_type": "code",
   "execution_count": 4,
   "id": "58ee2d07-7728-4a4c-a8de-eb20d5341940",
   "metadata": {},
   "outputs": [
    {
     "data": {
      "text/latex": [
       "$\\displaystyle - \\frac{128 x^{5}}{\\left(x^{2} + 3\\right)^{5}} + \\frac{64 x^{3}}{\\left(x^{2} + 3\\right)^{4}}$"
      ],
      "text/plain": [
       "-128*x**5/(x**2 + 3)**5 + 64*x**3/(x**2 + 3)**4"
      ]
     },
     "execution_count": 4,
     "metadata": {},
     "output_type": "execute_result"
    }
   ],
   "source": [
    "#Oppgave 1C\n",
    "x = sp.Symbol('x')\n",
    "sp.diff((2*x/(x**2+3))**4)"
   ]
  },
  {
   "cell_type": "code",
   "execution_count": 5,
   "id": "eb08066f-35de-4902-9f79-eff722728892",
   "metadata": {},
   "outputs": [
    {
     "data": {
      "text/latex": [
       "$\\displaystyle 12 x^{3} \\left(2 x^{4} + 9\\right)^{2}$"
      ],
      "text/plain": [
       "12*x**3*(2*x**4 + 9)**2"
      ]
     },
     "execution_count": 5,
     "metadata": {},
     "output_type": "execute_result"
    }
   ],
   "source": [
    "#Oppgave 1D\n",
    "x = sp.Symbol('x')\n",
    "sp.diff((2*x**4 + 9)**3/2)"
   ]
  },
  {
   "cell_type": "code",
   "execution_count": 6,
   "id": "1ea717f7-e4c0-4073-bfb0-7cf737405829",
   "metadata": {},
   "outputs": [
    {
     "data": {
      "text/latex": [
       "$\\displaystyle - \\frac{x}{\\left(x^{2} + 1\\right)^{\\frac{3}{2}}}$"
      ],
      "text/plain": [
       "-x/(x**2 + 1)**(3/2)"
      ]
     },
     "execution_count": 6,
     "metadata": {},
     "output_type": "execute_result"
    }
   ],
   "source": [
    "#Oppgave 1E\n",
    "x = sp.Symbol('x')\n",
    "sp.diff(1/(sp.sqrt(1 + x**2)))"
   ]
  },
  {
   "cell_type": "code",
   "execution_count": 7,
   "id": "80c48b84-279b-4a63-bd35-4912d1e9a9d1",
   "metadata": {},
   "outputs": [
    {
     "data": {
      "text/latex": [
       "$\\displaystyle x^{2} \\left(6 x + 6\\right) \\left(x^{2} + 2 x\\right)^{2} + 2 x \\left(x^{2} + 2 x\\right)^{3}$"
      ],
      "text/plain": [
       "x**2*(6*x + 6)*(x**2 + 2*x)**2 + 2*x*(x**2 + 2*x)**3"
      ]
     },
     "execution_count": 7,
     "metadata": {},
     "output_type": "execute_result"
    }
   ],
   "source": [
    " #Oppgave 1F\n",
    "x = sp.Symbol('x')\n",
    "sp.diff(x**2 *(x**2 + 2*x)**3)"
   ]
  },
  {
   "cell_type": "code",
   "execution_count": 8,
   "id": "94562686-a97d-4162-adc9-9aa68f5cb871",
   "metadata": {},
   "outputs": [
    {
     "data": {
      "text/latex": [
       "$\\displaystyle \\frac{x^{2} \\left(x - 1\\right)}{\\sqrt{x^{2} - 2 x}} + 2 x \\sqrt{x^{2} - 2 x}$"
      ],
      "text/plain": [
       "x**2*(x - 1)/sqrt(x**2 - 2*x) + 2*x*sqrt(x**2 - 2*x)"
      ]
     },
     "execution_count": 8,
     "metadata": {},
     "output_type": "execute_result"
    }
   ],
   "source": [
    "#Oppgave 1G\n",
    "x = sp.Symbol('x')\n",
    "sp.diff(x**2 *(sp.sqrt(x**2 - 2*x)))"
   ]
  },
  {
   "cell_type": "code",
   "execution_count": 11,
   "id": "a6c694bb-fdcf-4763-af44-5d57f4f354f8",
   "metadata": {},
   "outputs": [
    {
     "data": {
      "text/latex": [
       "$\\displaystyle \\frac{x^{2} \\left(- 6 x - 3\\right)}{\\left(x^{2} + x\\right)^{4}} + \\frac{2 x}{\\left(x^{2} + x\\right)^{3}}$"
      ],
      "text/plain": [
       "x**2*(-6*x - 3)/(x**2 + x)**4 + 2*x/(x**2 + x)**3"
      ]
     },
     "execution_count": 11,
     "metadata": {},
     "output_type": "execute_result"
    }
   ],
   "source": [
    "#Oppgave 1H\n",
    "x = sp.Symbol('x')\n",
    "sp.diff(x**2/(x**2 + x)**3)"
   ]
  },
  {
   "cell_type": "code",
   "execution_count": 12,
   "id": "3628b17a-e848-4749-8ee3-7687213f1881",
   "metadata": {},
   "outputs": [
    {
     "data": {
      "text/latex": [
       "$\\displaystyle 9 x^{2} \\left(x^{2} + 1\\right)^{2} \\left(x^{3} + 1\\right)^{2} + 4 x \\left(x^{2} + 1\\right) \\left(x^{3} + 1\\right)^{3}$"
      ],
      "text/plain": [
       "9*x**2*(x**2 + 1)**2*(x**3 + 1)**2 + 4*x*(x**2 + 1)*(x**3 + 1)**3"
      ]
     },
     "execution_count": 12,
     "metadata": {},
     "output_type": "execute_result"
    }
   ],
   "source": [
    "#Oppgave 1 I\n",
    "x = sp.Symbol('x')\n",
    "sp.diff((x**2 + 1)**2 * (x**3 + 1)**3)"
   ]
  },
  {
   "cell_type": "code",
   "execution_count": 13,
   "id": "3b4c3410-4786-4bf2-9b68-9c36ff129a50",
   "metadata": {},
   "outputs": [
    {
     "data": {
      "text/latex": [
       "$\\displaystyle \\left(12 x + 4\\right) \\left(3 x^{2} + 2 x\\right)$"
      ],
      "text/plain": [
       "(12*x + 4)*(3*x**2 + 2*x)"
      ]
     },
     "execution_count": 13,
     "metadata": {},
     "output_type": "execute_result"
    }
   ],
   "source": [
    "#Oppgave 2A\n",
    "x = sp.Symbol('x')\n",
    "sp.diff(sp.sqrt(3*x**2 + 2*x)**4)"
   ]
  },
  {
   "cell_type": "code",
   "execution_count": 14,
   "id": "7811b8ed-cc7d-40cd-8b39-20f3e55669b8",
   "metadata": {},
   "outputs": [
    {
     "data": {
      "text/latex": [
       "$\\displaystyle 15 x^{2} \\left(x^{2} + 3\\right)^{4} \\left(x^{3} + 3\\right)^{4} + 8 x \\left(x^{2} + 3\\right)^{3} \\left(x^{3} + 3\\right)^{5}$"
      ],
      "text/plain": [
       "15*x**2*(x**2 + 3)**4*(x**3 + 3)**4 + 8*x*(x**2 + 3)**3*(x**3 + 3)**5"
      ]
     },
     "execution_count": 14,
     "metadata": {},
     "output_type": "execute_result"
    }
   ],
   "source": [
    "#Oppgave 2B\n",
    "x = sp.Symbol('x')\n",
    "sp.diff((x**3+3)**5 * (x**2 + 3)**4)"
   ]
  },
  {
   "cell_type": "code",
   "execution_count": 15,
   "id": "3429545e-9724-441b-9ff6-3e9719fb6180",
   "metadata": {},
   "outputs": [
    {
     "data": {
      "text/latex": [
       "$\\displaystyle \\frac{x^{3}}{\\sqrt{x^{2} + 1}} + 2 x \\sqrt{x^{2} + 1}$"
      ],
      "text/plain": [
       "x**3/sqrt(x**2 + 1) + 2*x*sqrt(x**2 + 1)"
      ]
     },
     "execution_count": 15,
     "metadata": {},
     "output_type": "execute_result"
    }
   ],
   "source": [
    "#Oppgave 2C\n",
    "x = sp.Symbol('x')\n",
    "sp.diff(sp.sqrt(x**2 + 1 )*( x**2))"
   ]
  },
  {
   "cell_type": "code",
   "execution_count": 16,
   "id": "f653cfe3-f5db-4225-9c9d-f71e87d0ad90",
   "metadata": {},
   "outputs": [
    {
     "data": {
      "text/latex": [
       "$\\displaystyle \\frac{\\left(18 x + 6\\right) \\left(3 x^{2} + 2 x\\right)^{2}}{x^{2}} - \\frac{2 \\left(3 x^{2} + 2 x\\right)^{3}}{x^{3}}$"
      ],
      "text/plain": [
       "(18*x + 6)*(3*x**2 + 2*x)**2/x**2 - 2*(3*x**2 + 2*x)**3/x**3"
      ]
     },
     "execution_count": 16,
     "metadata": {},
     "output_type": "execute_result"
    }
   ],
   "source": [
    "#Oppgave 2D\n",
    "x = sp.Symbol('x')\n",
    "sp.diff(((2*x + 3*x**2)**3)/x**2)"
   ]
  },
  {
   "cell_type": "code",
   "execution_count": 17,
   "id": "7629f28f-f4d8-484b-8175-528f8b0dea3d",
   "metadata": {},
   "outputs": [
    {
     "data": {
      "text/latex": [
       "$\\displaystyle \\frac{4 x^{3}}{3 \\left(x^{4} - 5\\right)^{\\frac{2}{3}}}$"
      ],
      "text/plain": [
       "4*x**3/(3*(x**4 - 5)**(2/3))"
      ]
     },
     "execution_count": 17,
     "metadata": {},
     "output_type": "execute_result"
    }
   ],
   "source": [
    "#Oppgave 2E\n",
    "x = sp.Symbol('x')\n",
    "sp.diff(sp.cbrt(x**4 - 5))"
   ]
  },
  {
   "cell_type": "code",
   "execution_count": 18,
   "id": "76195980-10f1-4608-a8ee-5aac04a78c2a",
   "metadata": {},
   "outputs": [
    {
     "data": {
      "text/latex": [
       "$\\displaystyle - \\frac{2 x^{6}}{\\left(x^{4} - 1\\right)^{\\frac{3}{2}}} + \\frac{3 x^{2}}{\\sqrt{x^{4} - 1}}$"
      ],
      "text/plain": [
       "-2*x**6/(x**4 - 1)**(3/2) + 3*x**2/sqrt(x**4 - 1)"
      ]
     },
     "execution_count": 18,
     "metadata": {},
     "output_type": "execute_result"
    }
   ],
   "source": [
    "#Oppgave 2F\n",
    "x = sp.Symbol('x')\n",
    "sp.diff(x**3/(sp.sqrt(x**4 - 1)))"
   ]
  }
 ],
 "metadata": {
  "kernelspec": {
   "display_name": "Python 3 (ipykernel)",
   "language": "python",
   "name": "python3"
  },
  "language_info": {
   "codemirror_mode": {
    "name": "ipython",
    "version": 3
   },
   "file_extension": ".py",
   "mimetype": "text/x-python",
   "name": "python",
   "nbconvert_exporter": "python",
   "pygments_lexer": "ipython3",
   "version": "3.9.5"
  }
 },
 "nbformat": 4,
 "nbformat_minor": 5
}
