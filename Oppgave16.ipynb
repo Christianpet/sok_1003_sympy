{
 "cells": [
  {
   "cell_type": "code",
   "execution_count": 1,
   "id": "64c2970d-32b4-4e0d-867f-a2d3123099e1",
   "metadata": {},
   "outputs": [],
   "source": [
    "import sympy as sp\n",
    "from sympy.solvers import solve\n",
    "x, y=sp.symbols('x y')\n"
   ]
  },
  {
   "cell_type": "code",
   "execution_count": 2,
   "id": "c7809f9a-5756-42df-b0b1-9e0982317bd6",
   "metadata": {},
   "outputs": [
    {
     "data": {
      "text/latex": [
       "$\\displaystyle 4 x + 2 y = 12$"
      ],
      "text/plain": [
       "Eq(4*x + 2*y, 12)"
      ]
     },
     "execution_count": 2,
     "metadata": {},
     "output_type": "execute_result"
    }
   ],
   "source": [
    "#Oppgave 16, 1 a1\n",
    "eq1=sp.Eq(4*x + 2*y, 12)\n",
    "eq1"
   ]
  },
  {
   "cell_type": "code",
   "execution_count": 3,
   "id": "a1f26291-4bf6-4bf2-8b8e-8003b131afa1",
   "metadata": {},
   "outputs": [
    {
     "data": {
      "text/latex": [
       "$\\displaystyle 6 x - 2 y = 8$"
      ],
      "text/plain": [
       "Eq(6*x - 2*y, 8)"
      ]
     },
     "execution_count": 3,
     "metadata": {},
     "output_type": "execute_result"
    }
   ],
   "source": [
    "#Oppgave 16, 1 a2\n",
    "eq2=sp.Eq(6*x - 2*y, 8)\n",
    "eq2"
   ]
  },
  {
   "cell_type": "code",
   "execution_count": 4,
   "id": "079d9938-de72-4949-a104-4fc26603403b",
   "metadata": {},
   "outputs": [
    {
     "data": {
      "text/plain": [
       "{x: 2, y: 2}"
      ]
     },
     "execution_count": 4,
     "metadata": {},
     "output_type": "execute_result"
    }
   ],
   "source": [
    "sol=solve([eq1,eq2], [x,y])\n",
    "sol"
   ]
  },
  {
   "cell_type": "code",
   "execution_count": 5,
   "id": "60442040-efef-4cfa-b68e-f6a0a781a565",
   "metadata": {},
   "outputs": [
    {
     "data": {
      "text/latex": [
       "$\\displaystyle 2 x + y^{2} = 15$"
      ],
      "text/plain": [
       "Eq(2*x + y**2, 15)"
      ]
     },
     "execution_count": 5,
     "metadata": {},
     "output_type": "execute_result"
    }
   ],
   "source": [
    "#Oppgave 16, 1 b1\n",
    "eq3=sp.Eq(2*x + y**2, 15)\n",
    "eq3"
   ]
  },
  {
   "cell_type": "code",
   "execution_count": 7,
   "id": "3415bf43-325f-4f39-a498-ecffd89614e8",
   "metadata": {},
   "outputs": [
    {
     "data": {
      "text/latex": [
       "$\\displaystyle x - 2 y = 10$"
      ],
      "text/plain": [
       "Eq(x - 2*y, 10)"
      ]
     },
     "execution_count": 7,
     "metadata": {},
     "output_type": "execute_result"
    }
   ],
   "source": [
    "#Oppgave 16, 1 b2\n",
    "eq4=sp.Eq(x - 2*y, 10)\n",
    "eq4"
   ]
  },
  {
   "cell_type": "code",
   "execution_count": 8,
   "id": "0fe37cfc-5a06-4800-9072-4800d6634f0d",
   "metadata": {},
   "outputs": [
    {
     "data": {
      "text/plain": [
       "[(6 - 2*I, -2 - I), (6 + 2*I, -2 + I)]"
      ]
     },
     "execution_count": 8,
     "metadata": {},
     "output_type": "execute_result"
    }
   ],
   "source": [
    "sol=solve([eq3,eq4], [x,y])\n",
    "sol"
   ]
  },
  {
   "cell_type": "code",
   "execution_count": 9,
   "id": "8bf42b20-c5e9-4ec0-9cc5-05b88d050f1b",
   "metadata": {},
   "outputs": [
    {
     "data": {
      "text/latex": [
       "$\\displaystyle 4 x - 4 y = 8$"
      ],
      "text/plain": [
       "Eq(4*x - 4*y, 8)"
      ]
     },
     "execution_count": 9,
     "metadata": {},
     "output_type": "execute_result"
    }
   ],
   "source": [
    "#Oppgave 16, 2 a1\n",
    "eq5=sp.Eq(4*x - 4*y, 8)\n",
    "eq5"
   ]
  },
  {
   "cell_type": "code",
   "execution_count": 10,
   "id": "c743ae30-e2cb-41d0-86af-9d960f77cacb",
   "metadata": {},
   "outputs": [
    {
     "data": {
      "text/latex": [
       "$\\displaystyle 9 x - 5 y = 26$"
      ],
      "text/plain": [
       "Eq(9*x - 5*y, 26)"
      ]
     },
     "execution_count": 10,
     "metadata": {},
     "output_type": "execute_result"
    }
   ],
   "source": [
    "#Oppgave 16, 2 a2\n",
    "eq6=sp.Eq(9*x - 5*y, 26)\n",
    "eq6"
   ]
  },
  {
   "cell_type": "code",
   "execution_count": 11,
   "id": "61cb52f8-2ace-4ad2-8fe3-f8d9a377e497",
   "metadata": {},
   "outputs": [
    {
     "data": {
      "text/plain": [
       "{x: 4, y: 2}"
      ]
     },
     "execution_count": 11,
     "metadata": {},
     "output_type": "execute_result"
    }
   ],
   "source": [
    "sol=solve([eq5,eq6], [x,y])\n",
    "sol"
   ]
  },
  {
   "cell_type": "code",
   "execution_count": 12,
   "id": "d643e9a6-9f32-4efd-a22d-7e766e9f1f0a",
   "metadata": {},
   "outputs": [
    {
     "data": {
      "text/latex": [
       "$\\displaystyle x + 2 y^{2} = 15$"
      ],
      "text/plain": [
       "Eq(x + 2*y**2, 15)"
      ]
     },
     "execution_count": 12,
     "metadata": {},
     "output_type": "execute_result"
    }
   ],
   "source": [
    "#Oppgave 16, 2 b1\n",
    "eq7=sp.Eq(x + 2*y**2, 15)\n",
    "eq7"
   ]
  },
  {
   "cell_type": "code",
   "execution_count": 13,
   "id": "188303cc-f04e-41a5-b7fd-3b839cba590a",
   "metadata": {},
   "outputs": [
    {
     "data": {
      "text/latex": [
       "$\\displaystyle x^{2} - 4 y^{2} = 33$"
      ],
      "text/plain": [
       "Eq(x**2 - 4*y**2, 33)"
      ]
     },
     "execution_count": 13,
     "metadata": {},
     "output_type": "execute_result"
    }
   ],
   "source": [
    "#Oppgave 16, 2 b2\n",
    "eq8=sp.Eq(x**2 - 4*y**2, 33)\n",
    "eq8"
   ]
  },
  {
   "cell_type": "code",
   "execution_count": 18,
   "id": "4514e7b6-ff20-42f0-b4d1-3a897c654c97",
   "metadata": {},
   "outputs": [
    {
     "data": {
      "text/plain": [
       "[(-9, -2*sqrt(3)), (-9, 2*sqrt(3)), (7, -2), (7, 2)]"
      ]
     },
     "execution_count": 18,
     "metadata": {},
     "output_type": "execute_result"
    }
   ],
   "source": [
    "sol=solve([eq7,eq8], [x,y])\n",
    "sol"
   ]
  }
 ],
 "metadata": {
  "kernelspec": {
   "display_name": "Python 3 (ipykernel)",
   "language": "python",
   "name": "python3"
  },
  "language_info": {
   "codemirror_mode": {
    "name": "ipython",
    "version": 3
   },
   "file_extension": ".py",
   "mimetype": "text/x-python",
   "name": "python",
   "nbconvert_exporter": "python",
   "pygments_lexer": "ipython3",
   "version": "3.9.5"
  }
 },
 "nbformat": 4,
 "nbformat_minor": 5
}
